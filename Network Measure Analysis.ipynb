{
 "cells": [
  {
   "cell_type": "code",
   "execution_count": null,
   "metadata": {},
   "outputs": [],
   "source": [
    "import pandas as pd\n",
    "import networkx as nx\n",
    "import matplotlib.pyplot as plt\n",
    "import numpy as np\n",
    "\n",
    "tweet_df = pd.read_csv('Outputs/brexit_tweets_april.csv',lineterminator='\\n')\n",
    "\n",
    "week1_df = pd.read_csv('Outputs/week_1_network_retweet_thresh_100.csv',lineterminator='\\n')\n",
    "week2_df = pd.read_csv('Outputs/week_2_network_retweet_thresh_100.csv',lineterminator='\\n')\n",
    "week3_df = pd.read_csv('Outputs/week_3_network_retweet_thresh_100.csv',lineterminator='\\n')\n",
    "week4_df = pd.read_csv('Outputs/week_4_network_retweet_thresh_100.csv',lineterminator='\\n')\n",
    "mutual_df = pd.read_csv('Outputs/mutual_folling_info_retweet_thresh_100.csv',lineterminator='\\n')\n",
    "following_df = pd.read_csv('Outputs/following_only_info_retweet_thresh_100.csv',lineterminator='\\n')\n",
    "\n",
    "week1_10_df = pd.read_csv('Outputs/week_1_network_retweet_thresh_10.csv',lineterminator='\\n')\n",
    "week2_10_df = pd.read_csv('Outputs/week_2_network_retweet_thresh_10.csv',lineterminator='\\n')\n",
    "week3_10_df = pd.read_csv('Outputs/week_3_network_retweet_thresh_10.csv',lineterminator='\\n')\n",
    "week4_10_df = pd.read_csv('Outputs/week_4_network_retweet_thresh_10.csv',lineterminator='\\n')\n",
    "mutual_10_df = pd.read_csv('Outputs/mutual_folling_info_retweet_thresh_10.csv',lineterminator='\\n')\n",
    "following_10_df = pd.read_csv('Outputs/following_only_info_retweet_thresh_10.csv',lineterminator='\\n')\n",
    "\n"
   ]
  },
  {
   "cell_type": "code",
   "execution_count": null,
   "metadata": {},
   "outputs": [],
   "source": [
    "tweet_df['mentions'] = tweet_df['mentions\\r'].str.strip()\n",
    "tweet_df['dummy_count'] = 1\n",
    "tweet_df = tweet_df.drop(['Unnamed: 0','id','location','retweeted','mentions\\r', 'mentions','dummy_count'],axis='columns')\n",
    "print(tweet_df.shape)\n",
    "tweet_df.head()"
   ]
  },
  {
   "cell_type": "code",
   "execution_count": null,
   "metadata": {},
   "outputs": [],
   "source": [
    "def create_pairings(source):\n",
    "    result = []\n",
    "    for p1 in range(len(source)):\n",
    "        for p2 in range(p1+1,len(source)):\n",
    "            result.append([source[p1],source[p2]])\n",
    "    return result\n"
   ]
  },
  {
   "cell_type": "code",
   "execution_count": null,
   "metadata": {},
   "outputs": [],
   "source": [
    "# Plot the follower - following relation using networkX library\n",
    "nodes1 = list(week1_df['screen_name'])\n",
    "nodes2 = list(week2_df['screen_name'])\n",
    "nodes3 = list(week3_df['screen_name'])\n",
    "nodes4 = list(week4_df['screen_name'])\n",
    "\n",
    "# print(\"4 weeks nodes for thr 100\",len(nodes1),\"--\",len(nodes2),\"--\",len(nodes3),\"--\",len(nodes4))\n",
    "\n",
    "nodes1_10 = list(week1_10_df['screen_name'])\n",
    "nodes2_10 = list(week2_10_df['screen_name'])\n",
    "nodes3_10 = list(week3_10_df['screen_name'])\n",
    "nodes4_10 = list(week4_10_df['screen_name'])\n",
    "\n",
    "# print(\"\\n\\n4 weeks nodes for thr 10\",len(nodes1_10),\"--\",len(nodes2_10),\"--\",len(nodes3_10),\"--\",len(nodes4_10))\n",
    "\n",
    "pairings1 = create_pairings(nodes1)\n",
    "pairings2 = create_pairings(nodes2)\n",
    "pairings3 = create_pairings(nodes3)\n",
    "pairings4 = create_pairings(nodes4)\n",
    "\n",
    "pairings1_10 = create_pairings(nodes1_10)\n",
    "pairings2_10 = create_pairings(nodes2_10)\n",
    "pairings3_10 = create_pairings(nodes3_10)\n",
    "pairings4_10 = create_pairings(nodes4_10)\n",
    "\n",
    "print(mutual_df.shape)\n",
    "mutual_df['dest_follow_source'] = mutual_df['dest_follow_source\\r'].str.strip()\n",
    "mutual_df = mutual_df.drop(['dest_follow_source\\r'],axis='columns')\n",
    "mutual_df.tail()\n",
    "\n",
    "print(mutual_10_df.shape)\n",
    "mutual_10_df['dest_follow_source'] = mutual_10_df['dest_follow_source\\r'].str.strip()\n",
    "mutual_10_df = mutual_10_df.drop(['dest_follow_source\\r'],axis='columns')\n",
    "mutual_10_df.tail()"
   ]
  },
  {
   "cell_type": "code",
   "execution_count": null,
   "metadata": {},
   "outputs": [],
   "source": [
    "followers = mutual_df[['source_screen_name','destination_screen_name']][mutual_df['source_follow_dest']==True].values.tolist()\n",
    "followings = mutual_df[['source_screen_name','destination_screen_name']][mutual_df['dest_follow_source']=='True'].values.tolist()\n",
    "\n",
    "followers_10 = mutual_10_df[['source_screen_name','destination_screen_name']][mutual_10_df['source_follow_dest']==True].values.tolist()\n",
    "followings_10 = mutual_10_df[['source_screen_name','destination_screen_name']][mutual_10_df['dest_follow_source']=='True'].values.tolist()\n",
    "\n",
    "# print(followers)\n",
    "# print(followings)\n",
    "\n",
    "follower_edges = []\n",
    "following_edges = []\n",
    "follower_edges_10 = []\n",
    "following_edges_10 = []\n",
    "\n",
    "for f1 in followers:\n",
    "    follower_edges.append((f1[0],f1[1]))\n",
    "\n",
    "for f2 in followings:\n",
    "    following_edges.append((f2[0],f2[1]))\n",
    "\n",
    "for f11 in followers_10:\n",
    "    follower_edges_10.append((f11[0],f11[1]))\n",
    "\n",
    "for f21 in followings_10:\n",
    "    following_edges_10.append((f21[0],f21[1]))\n",
    "\n",
    "print(\"Follower:\\n\",len(follower_edges),\"\\nFollowing:\\n\",len(following_edges))\n",
    "print(\"\\n\\nFollower:\\n\",len(follower_edges_10),\"\\nFollowing:\\n\",len(following_edges_10))"
   ]
  },
  {
   "cell_type": "code",
   "execution_count": null,
   "metadata": {},
   "outputs": [],
   "source": [
    "# To PLOT the graph\n",
    "def myplot(G,follower_edges,following_edges):\n",
    "#     print(len(follower_edges),\"---\",len(following_edges))\n",
    "    plt.figure(figsize=(30,30))\n",
    "    pos = nx.spring_layout(G, k=1.5*1/np.sqrt(len(dg.nodes())), iterations=30)\n",
    "    nx.draw(dg,pos=pos,with_labels = True,font_size=17,cmap=plt.get_cmap('YlOrBr'),seed=10)\n",
    "    \n",
    "    nx.draw_networkx_labels(G, pos)\n",
    "    nx.draw_networkx_edges(G, pos, edgelist=follower_edges, edge_color='r', arrows=True)\n",
    "    nx.draw_networkx_edges(G, pos, edgelist=following_edges, edge_color='b', arrows=True)\n",
    "\n",
    "\n",
    "    plt.title('''Follower-Following Directional graph''',fontsize=50)\n",
    "#     plt.savefig(\"digraph.png\") #save as jpeg\n",
    "    plt.show() #display\n"
   ]
  },
  {
   "cell_type": "code",
   "execution_count": null,
   "metadata": {},
   "outputs": [],
   "source": [
    "# DIRECTED GRAPH\n",
    "\n",
    "dg = nx.DiGraph()\n",
    "dg_10 = nx.DiGraph()\n",
    "\n",
    "dg.add_nodes_from(nodes1)\n",
    "dg.add_edges_from(follower_edges)\n",
    "dg.add_edges_from(following_edges)\n",
    "\n",
    "dg_10.add_nodes_from(nodes1_10)\n",
    "dg_10.add_edges_from(follower_edges_10)\n",
    "dg_10.add_edges_from(following_edges_10)\n"
   ]
  },
  {
   "cell_type": "code",
   "execution_count": null,
   "metadata": {},
   "outputs": [],
   "source": [
    "# TO SEE THE PLOT\n",
    "myplot(dg,follower_edges,following_edges)\n"
   ]
  },
  {
   "cell_type": "code",
   "execution_count": null,
   "metadata": {},
   "outputs": [],
   "source": [
    "myplot(dg_10,follower_edges_10,following_edges_10)"
   ]
  },
  {
   "cell_type": "code",
   "execution_count": null,
   "metadata": {
    "scrolled": false
   },
   "outputs": [],
   "source": [
    "import community\n",
    "from networkx.algorithms.community import greedy_modularity_communities\n",
    "\n",
    "# CONVERT to Undirected graph\n",
    "G = dg.to_undirected()\n",
    "G_10 = dg_10.to_undirected()\n",
    "\n",
    "node_in_degree = nx.algorithms.centrality.in_degree_centrality(dg)\n",
    "node_out_degree = nx.algorithms.centrality.out_degree_centrality(dg)\n",
    "node_fol_ratio = {k: node_in_degree[k] / node_out_degree[k] for k in node_out_degree if k in node_in_degree and node_out_degree[k]!=0}\n",
    "\n",
    "node_10_in_degree = nx.algorithms.centrality.in_degree_centrality(dg_10)\n",
    "node_10_out_degree = nx.algorithms.centrality.out_degree_centrality(dg_10)\n",
    "node_10_fol_ratio = {k: node_10_in_degree[k] / node_10_out_degree[k] for k in node_10_out_degree if k in node_10_in_degree and node_10_out_degree[k]!=0}\n",
    "\n",
    "plt.figure(figsize=(25,12))\n",
    "plt.plot(*zip(*sorted(node_fol_ratio.items())))\n",
    "plt.axhline(y=1, color='r', linestyle='-')\n",
    "#plt.text(0,1.1,'Ratio=1',rotation=0)\n",
    "plt.xticks(rotation=90)\n",
    "plt.xlabel('Twitter Users', fontsize=20)\n",
    "plt.ylabel('Follower/Following ratio', fontsize=20)\n",
    "plt.title('Follower/Following ratio of twitter users whose tweets are retweeted > 100 times', fontsize=30)\n",
    "plt.show()\n",
    "\n",
    "plt.figure(figsize=(25,12))\n",
    "plt.plot(*zip(*sorted(node_10_fol_ratio.items())))\n",
    "plt.axhline(y=1, color='r', linestyle='-')\n",
    "#plt.text(0,0,'Ratio=1',rotation=0)\n",
    "plt.xticks(rotation=90)\n",
    "plt.xlabel('Twitter Users', fontsize=20)\n",
    "plt.ylabel('Follower/Following ratio', fontsize=20)\n",
    "plt.title('Follower/Following ratio of twitter users whose tweets are retweeted > 10 times', fontsize=30)\n",
    "plt.show()"
   ]
  },
  {
   "cell_type": "code",
   "execution_count": null,
   "metadata": {},
   "outputs": [],
   "source": [
    "\n",
    "sorted(node_10_fol_ratio.items(), key=lambda x: x[1],reverse=True)[:10]"
   ]
  },
  {
   "cell_type": "code",
   "execution_count": null,
   "metadata": {},
   "outputs": [],
   "source": [
    "# IN DEGREE\n",
    "# For users who have 100 retweets - blue - have more no. of followers compared to threshold 10\n",
    "\n",
    "plt.figure(figsize=(25,14))\n",
    "plt.bar(node_in_degree.keys(), node_in_degree.values(), 1, color='b',label='retweets > 100')\n",
    "plt.bar(node_10_in_degree.keys(), node_10_in_degree.values(), 1, color='g',label='retweets > 10')\n",
    "plt.legend(prop={'size':30})\n",
    "plt.xticks(rotation=90)\n",
    "plt.xlabel('Twitter users',fontsize=20)\n",
    "plt.ylabel('In-degree centrality',fontsize=20)\n",
    "plt.title('In-degree centrality for twitter users with retweets > 100 vs retweets > 10',fontsize=30)\n",
    "plt.show()"
   ]
  },
  {
   "cell_type": "code",
   "execution_count": null,
   "metadata": {},
   "outputs": [],
   "source": [
    "# OUT DEGREE\n",
    "# For users who have 100 retweets - blue - have more no. of followers compared to threshold 10\n",
    "\n",
    "plt.figure(figsize=(25,14))\n",
    "plt.bar(node_out_degree.keys(), node_out_degree.values(), 1, color='b',label='retweets > 100')\n",
    "plt.bar(node_10_out_degree.keys(), node_10_out_degree.values(), 1, color='g',label='retweets > 10')\n",
    "plt.legend(prop={'size':30})\n",
    "plt.xticks(rotation=90)\n",
    "plt.xlabel('Twitter users',fontsize=20)\n",
    "plt.ylabel('Out-degree centrality',fontsize=20)\n",
    "plt.title('Out-degree centrality for twitter users with retweets > 100 vs retweets > 10',fontsize=30)\n",
    "plt.show()"
   ]
  },
  {
   "cell_type": "code",
   "execution_count": null,
   "metadata": {},
   "outputs": [],
   "source": [
    "node_in_degree"
   ]
  },
  {
   "cell_type": "code",
   "execution_count": null,
   "metadata": {},
   "outputs": [],
   "source": [
    "\n",
    "network_density = nx.density(dg)\n",
    "nd = nx.density(G)\n",
    "\n",
    "network_density_10 = nx.density(dg_10)\n",
    "nd_10 = nx.density(G_10)\n",
    "\n",
    "print(\"100---dir---\",network_density,\"--undir--\",nd,\"\\n---10---dir---\",network_density_10,\"--undir--\",nd_10)"
   ]
  },
  {
   "cell_type": "code",
   "execution_count": null,
   "metadata": {},
   "outputs": [],
   "source": [
    "# CLOSENESS\n",
    "\n",
    "import operator\n",
    "\n",
    "node_closeness = nx.algorithms.centrality.closeness_centrality(dg)\n",
    "node_10_closeness = nx.algorithms.centrality.closeness_centrality(dg_10)\n",
    "top_node_closeness = dict(sorted(node_closeness.items(), key=operator.itemgetter(1),reverse=True)[:5])\n",
    "top_node_10_closeness = dict(sorted(node_10_closeness.items(), key=operator.itemgetter(1),reverse=True)[:5])\n",
    "print(top_node_closeness,\"====\\n\",top_node_10_closeness)"
   ]
  },
  {
   "cell_type": "code",
   "execution_count": null,
   "metadata": {},
   "outputs": [],
   "source": [
    "# BETWEENNESS\n",
    "\n",
    "node_betweenness = nx.algorithms.centrality.betweenness_centrality(dg)\n",
    "node_10_betweenness = nx.algorithms.centrality.betweenness_centrality(dg_10)\n",
    "\n",
    "top_node_betweenness = dict(sorted(node_betweenness.items(), key=operator.itemgetter(1),reverse=True)[:5])\n",
    "top_node_10_betweenness = dict(sorted(node_10_betweenness.items(), key=operator.itemgetter(1),reverse=True)[:5])\n",
    "top_node_betweenness \n",
    "# top_node_10_betweenness\n",
    "\n",
    "# # Examples of influential people\n",
    "# guyverhofstadt Brexit Coordinator for @Europarl_EN\n",
    "# SkyNews For breaking news\n",
    "# spaceangel1964 Anti: #Brexit #Trump\n",
    "# Telegraph Think ahead with the latest news, comment, analysis and video.\n"
   ]
  },
  {
   "cell_type": "code",
   "execution_count": null,
   "metadata": {},
   "outputs": [],
   "source": [
    "node_clustering_coeff = nx.algorithms.cluster.clustering(dg, nodes=None, weight=None)\n",
    "node_10_clustering_coeff = nx.algorithms.cluster.clustering(dg_10, nodes=None, weight=None)\n",
    "\n",
    "node_clustering_coeff_top10 = dict(sorted(node_clustering_coeff.items(), key=operator.itemgetter(1),reverse=True)[:5])\n",
    "node_clustering_coeff_top10\n",
    "\n",
    "node_10_clustering_coeff_top10 = dict(sorted(node_10_clustering_coeff.items(), key=operator.itemgetter(1),reverse=True)[:5])\n",
    "node_10_clustering_coeff_top10"
   ]
  },
  {
   "cell_type": "code",
   "execution_count": null,
   "metadata": {},
   "outputs": [],
   "source": [
    "page_rank = nx.algorithms.link_analysis.pagerank_alg.pagerank(dg)\n",
    "page_rank_10 = nx.algorithms.link_analysis.pagerank_alg.pagerank(dg_10)\n",
    "\n",
    "top_ranks = dict(sorted(page_rank.items(), key=operator.itemgetter(1),reverse=True)[:5])\n",
    "top_10_ranks = dict(sorted(page_rank_10.items(), key=operator.itemgetter(1),reverse=True)[:5])\n",
    "top_10_ranks\n",
    "\n",
    "plt.plot(*zip(*sorted(page_rank.items(), key=operator.itemgetter(1),reverse=True)))\n",
    "plt.show()\n",
    "\n",
    "plt.plot(*zip(*sorted(page_rank_10.items(), key=operator.itemgetter(1),reverse=True)))\n",
    "plt.show()"
   ]
  },
  {
   "cell_type": "code",
   "execution_count": null,
   "metadata": {},
   "outputs": [],
   "source": [
    "eigenvector = nx.eigenvector_centrality(dg,max_iter=1000)\n",
    "eigenvector_10 = nx.eigenvector_centrality(dg_10,max_iter=1000)\n",
    "plt.plot(*zip(*sorted(eigenvector.items(), key=operator.itemgetter(1),reverse=True)))\n",
    "plt.show()\n",
    "\n",
    "plt.plot(*zip(*sorted(eigenvector_10.items(), key=operator.itemgetter(1),reverse=True)))\n",
    "plt.show()\n"
   ]
  },
  {
   "cell_type": "code",
   "execution_count": null,
   "metadata": {},
   "outputs": [],
   "source": [
    "modularity = greedy_modularity_communities(G)\n",
    "modularity_10 = greedy_modularity_communities(G_10)\n",
    "modularity_10"
   ]
  },
  {
   "cell_type": "code",
   "execution_count": null,
   "metadata": {},
   "outputs": [],
   "source": []
  },
  {
   "cell_type": "code",
   "execution_count": null,
   "metadata": {},
   "outputs": [],
   "source": []
  },
  {
   "cell_type": "code",
   "execution_count": null,
   "metadata": {},
   "outputs": [],
   "source": []
  }
 ],
 "metadata": {
  "kernelspec": {
   "display_name": "Python 3",
   "language": "python",
   "name": "python3"
  },
  "language_info": {
   "codemirror_mode": {
    "name": "ipython",
    "version": 3
   },
   "file_extension": ".py",
   "mimetype": "text/x-python",
   "name": "python",
   "nbconvert_exporter": "python",
   "pygments_lexer": "ipython3",
   "version": "3.7.1"
  }
 },
 "nbformat": 4,
 "nbformat_minor": 2
}
